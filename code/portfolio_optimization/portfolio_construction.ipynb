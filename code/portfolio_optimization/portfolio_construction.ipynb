{
 "cells": [
  {
   "cell_type": "code",
   "execution_count": 7,
   "metadata": {},
   "outputs": [
    {
     "name": "stdout",
     "output_type": "stream",
     "text": [
      "[*********************100%***********************]  1 of 1 completed\n",
      "[*********************100%***********************]  1 of 1 completed\n",
      "[*********************100%***********************]  1 of 1 completed\n",
      "[*********************100%***********************]  1 of 1 completed\n",
      "[*********************100%***********************]  1 of 1 completed\n",
      "[*********************100%***********************]  1 of 1 completed\n"
     ]
    }
   ],
   "source": [
    "from pandas_datareader import data as pdr\n",
    "from datetime import date\n",
    "import yfinance as yf\n",
    "\n",
    "yf.pdr_override()\n",
    "import pandas as pd\n",
    "\n",
    "ticker_list=[\"AAPL\", \"MSFT\", \"AMZN\", \"TSLA\", \"GOOGL\", \"GOOG\"]\n",
    "today = date.today()\n",
    "# We can get data by our choice by giving days bracket\n",
    "start_date= \"2020-11-30\"\n",
    "# end_date=\"2020-11-30\"\n",
    "\n",
    "files=[]\n",
    "def getData(ticker):\n",
    "    data = pdr.get_data_yahoo(ticker, start=start_date, end=today)\n",
    "    # dataname= ticker+\"_\"+str(today)\n",
    "    files.append((data,ticker))\n",
    "    \n",
    "for tik in ticker_list:\n",
    "    getData(tik)"
   ]
  },
  {
   "cell_type": "code",
   "execution_count": 8,
   "metadata": {},
   "outputs": [
    {
     "data": {
      "text/html": [
       "<div>\n",
       "<style scoped>\n",
       "    .dataframe tbody tr th:only-of-type {\n",
       "        vertical-align: middle;\n",
       "    }\n",
       "\n",
       "    .dataframe tbody tr th {\n",
       "        vertical-align: top;\n",
       "    }\n",
       "\n",
       "    .dataframe thead th {\n",
       "        text-align: right;\n",
       "    }\n",
       "</style>\n",
       "<table border=\"1\" class=\"dataframe\">\n",
       "  <thead>\n",
       "    <tr style=\"text-align: right;\">\n",
       "      <th></th>\n",
       "      <th>AAPL</th>\n",
       "      <th>MSFT</th>\n",
       "      <th>AMZN</th>\n",
       "      <th>TSLA</th>\n",
       "      <th>GOOGL</th>\n",
       "      <th>GOOG</th>\n",
       "    </tr>\n",
       "    <tr>\n",
       "      <th>Date</th>\n",
       "      <th></th>\n",
       "      <th></th>\n",
       "      <th></th>\n",
       "      <th></th>\n",
       "      <th></th>\n",
       "      <th></th>\n",
       "    </tr>\n",
       "  </thead>\n",
       "  <tbody>\n",
       "    <tr>\n",
       "      <th>2020-11-30</th>\n",
       "      <td>119.050003</td>\n",
       "      <td>214.070007</td>\n",
       "      <td>3168.040039</td>\n",
       "      <td>567.599976</td>\n",
       "      <td>1754.400024</td>\n",
       "      <td>1760.739990</td>\n",
       "    </tr>\n",
       "    <tr>\n",
       "      <th>2020-12-01</th>\n",
       "      <td>122.720001</td>\n",
       "      <td>216.210007</td>\n",
       "      <td>3220.080078</td>\n",
       "      <td>584.760010</td>\n",
       "      <td>1795.359985</td>\n",
       "      <td>1798.099976</td>\n",
       "    </tr>\n",
       "    <tr>\n",
       "      <th>2020-12-02</th>\n",
       "      <td>123.080002</td>\n",
       "      <td>215.369995</td>\n",
       "      <td>3203.530029</td>\n",
       "      <td>568.820007</td>\n",
       "      <td>1824.969971</td>\n",
       "      <td>1827.949951</td>\n",
       "    </tr>\n",
       "    <tr>\n",
       "      <th>2020-12-03</th>\n",
       "      <td>122.940002</td>\n",
       "      <td>214.240005</td>\n",
       "      <td>3186.729980</td>\n",
       "      <td>593.380005</td>\n",
       "      <td>1821.839966</td>\n",
       "      <td>1826.770020</td>\n",
       "    </tr>\n",
       "    <tr>\n",
       "      <th>2020-12-04</th>\n",
       "      <td>122.250000</td>\n",
       "      <td>214.360001</td>\n",
       "      <td>3162.580078</td>\n",
       "      <td>599.039978</td>\n",
       "      <td>1823.760010</td>\n",
       "      <td>1827.989990</td>\n",
       "    </tr>\n",
       "    <tr>\n",
       "      <th>...</th>\n",
       "      <td>...</td>\n",
       "      <td>...</td>\n",
       "      <td>...</td>\n",
       "      <td>...</td>\n",
       "      <td>...</td>\n",
       "      <td>...</td>\n",
       "    </tr>\n",
       "    <tr>\n",
       "      <th>2022-04-04</th>\n",
       "      <td>178.440002</td>\n",
       "      <td>314.970001</td>\n",
       "      <td>3366.929932</td>\n",
       "      <td>1145.449951</td>\n",
       "      <td>2859.429932</td>\n",
       "      <td>2872.850098</td>\n",
       "    </tr>\n",
       "    <tr>\n",
       "      <th>2022-04-05</th>\n",
       "      <td>175.059998</td>\n",
       "      <td>310.880005</td>\n",
       "      <td>3281.100098</td>\n",
       "      <td>1091.260010</td>\n",
       "      <td>2811.820068</td>\n",
       "      <td>2821.260010</td>\n",
       "    </tr>\n",
       "    <tr>\n",
       "      <th>2022-04-06</th>\n",
       "      <td>171.830002</td>\n",
       "      <td>299.500000</td>\n",
       "      <td>3175.120117</td>\n",
       "      <td>1045.760010</td>\n",
       "      <td>2730.959961</td>\n",
       "      <td>2743.520020</td>\n",
       "    </tr>\n",
       "    <tr>\n",
       "      <th>2022-04-07</th>\n",
       "      <td>172.139999</td>\n",
       "      <td>301.369995</td>\n",
       "      <td>3155.689941</td>\n",
       "      <td>1057.260010</td>\n",
       "      <td>2717.770020</td>\n",
       "      <td>2729.300049</td>\n",
       "    </tr>\n",
       "    <tr>\n",
       "      <th>2022-04-08</th>\n",
       "      <td>170.089996</td>\n",
       "      <td>296.970001</td>\n",
       "      <td>3089.209961</td>\n",
       "      <td>1025.489990</td>\n",
       "      <td>2665.750000</td>\n",
       "      <td>2680.209961</td>\n",
       "    </tr>\n",
       "  </tbody>\n",
       "</table>\n",
       "<p>343 rows × 6 columns</p>\n",
       "</div>"
      ],
      "text/plain": [
       "                  AAPL        MSFT         AMZN         TSLA        GOOGL  \\\n",
       "Date                                                                        \n",
       "2020-11-30  119.050003  214.070007  3168.040039   567.599976  1754.400024   \n",
       "2020-12-01  122.720001  216.210007  3220.080078   584.760010  1795.359985   \n",
       "2020-12-02  123.080002  215.369995  3203.530029   568.820007  1824.969971   \n",
       "2020-12-03  122.940002  214.240005  3186.729980   593.380005  1821.839966   \n",
       "2020-12-04  122.250000  214.360001  3162.580078   599.039978  1823.760010   \n",
       "...                ...         ...          ...          ...          ...   \n",
       "2022-04-04  178.440002  314.970001  3366.929932  1145.449951  2859.429932   \n",
       "2022-04-05  175.059998  310.880005  3281.100098  1091.260010  2811.820068   \n",
       "2022-04-06  171.830002  299.500000  3175.120117  1045.760010  2730.959961   \n",
       "2022-04-07  172.139999  301.369995  3155.689941  1057.260010  2717.770020   \n",
       "2022-04-08  170.089996  296.970001  3089.209961  1025.489990  2665.750000   \n",
       "\n",
       "                   GOOG  \n",
       "Date                     \n",
       "2020-11-30  1760.739990  \n",
       "2020-12-01  1798.099976  \n",
       "2020-12-02  1827.949951  \n",
       "2020-12-03  1826.770020  \n",
       "2020-12-04  1827.989990  \n",
       "...                 ...  \n",
       "2022-04-04  2872.850098  \n",
       "2022-04-05  2821.260010  \n",
       "2022-04-06  2743.520020  \n",
       "2022-04-07  2729.300049  \n",
       "2022-04-08  2680.209961  \n",
       "\n",
       "[343 rows x 6 columns]"
      ]
     },
     "execution_count": 8,
     "metadata": {},
     "output_type": "execute_result"
    }
   ],
   "source": [
    "closing_price = []\n",
    "for stock_df in files:\n",
    "    closing_price.append(stock_df[0].Close)\n",
    "\n",
    "stocks = pd.concat(closing_price, axis = 1)\n",
    "stocks.columns = ticker_list\n",
    "stocks"
   ]
  },
  {
   "cell_type": "code",
   "execution_count": 9,
   "metadata": {},
   "outputs": [
    {
     "data": {
      "text/plain": [
       "AAPL     0.001180\n",
       "MSFT     0.001067\n",
       "AMZN     0.000103\n",
       "TSLA     0.002396\n",
       "GOOGL    0.001361\n",
       "GOOG     0.001362\n",
       "dtype: float64"
      ]
     },
     "execution_count": 9,
     "metadata": {},
     "output_type": "execute_result"
    }
   ],
   "source": [
    "stocks.pct_change(1).mean()"
   ]
  },
  {
   "cell_type": "code",
   "execution_count": 11,
   "metadata": {},
   "outputs": [
    {
     "data": {
      "text/html": [
       "<div>\n",
       "<style scoped>\n",
       "    .dataframe tbody tr th:only-of-type {\n",
       "        vertical-align: middle;\n",
       "    }\n",
       "\n",
       "    .dataframe tbody tr th {\n",
       "        vertical-align: top;\n",
       "    }\n",
       "\n",
       "    .dataframe thead th {\n",
       "        text-align: right;\n",
       "    }\n",
       "</style>\n",
       "<table border=\"1\" class=\"dataframe\">\n",
       "  <thead>\n",
       "    <tr style=\"text-align: right;\">\n",
       "      <th></th>\n",
       "      <th>AAPL</th>\n",
       "      <th>MSFT</th>\n",
       "      <th>AMZN</th>\n",
       "      <th>TSLA</th>\n",
       "      <th>GOOGL</th>\n",
       "      <th>GOOG</th>\n",
       "    </tr>\n",
       "    <tr>\n",
       "      <th>Date</th>\n",
       "      <th></th>\n",
       "      <th></th>\n",
       "      <th></th>\n",
       "      <th></th>\n",
       "      <th></th>\n",
       "      <th></th>\n",
       "    </tr>\n",
       "  </thead>\n",
       "  <tbody>\n",
       "    <tr>\n",
       "      <th>2020-11-30</th>\n",
       "      <td>NaN</td>\n",
       "      <td>NaN</td>\n",
       "      <td>NaN</td>\n",
       "      <td>NaN</td>\n",
       "      <td>NaN</td>\n",
       "      <td>NaN</td>\n",
       "    </tr>\n",
       "    <tr>\n",
       "      <th>2020-12-01</th>\n",
       "      <td>0.030362</td>\n",
       "      <td>0.009947</td>\n",
       "      <td>0.016293</td>\n",
       "      <td>0.029785</td>\n",
       "      <td>0.023079</td>\n",
       "      <td>0.020996</td>\n",
       "    </tr>\n",
       "    <tr>\n",
       "      <th>2020-12-02</th>\n",
       "      <td>0.002929</td>\n",
       "      <td>-0.003893</td>\n",
       "      <td>-0.005153</td>\n",
       "      <td>-0.027637</td>\n",
       "      <td>0.016358</td>\n",
       "      <td>0.016465</td>\n",
       "    </tr>\n",
       "    <tr>\n",
       "      <th>2020-12-03</th>\n",
       "      <td>-0.001138</td>\n",
       "      <td>-0.005261</td>\n",
       "      <td>-0.005258</td>\n",
       "      <td>0.042271</td>\n",
       "      <td>-0.001717</td>\n",
       "      <td>-0.000646</td>\n",
       "    </tr>\n",
       "    <tr>\n",
       "      <th>2020-12-04</th>\n",
       "      <td>-0.005628</td>\n",
       "      <td>0.000560</td>\n",
       "      <td>-0.007607</td>\n",
       "      <td>0.009493</td>\n",
       "      <td>0.001053</td>\n",
       "      <td>0.000668</td>\n",
       "    </tr>\n",
       "  </tbody>\n",
       "</table>\n",
       "</div>"
      ],
      "text/plain": [
       "                AAPL      MSFT      AMZN      TSLA     GOOGL      GOOG\n",
       "Date                                                                  \n",
       "2020-11-30       NaN       NaN       NaN       NaN       NaN       NaN\n",
       "2020-12-01  0.030362  0.009947  0.016293  0.029785  0.023079  0.020996\n",
       "2020-12-02  0.002929 -0.003893 -0.005153 -0.027637  0.016358  0.016465\n",
       "2020-12-03 -0.001138 -0.005261 -0.005258  0.042271 -0.001717 -0.000646\n",
       "2020-12-04 -0.005628  0.000560 -0.007607  0.009493  0.001053  0.000668"
      ]
     },
     "execution_count": 11,
     "metadata": {},
     "output_type": "execute_result"
    }
   ],
   "source": [
    "import numpy as np\n",
    "\n",
    "log_return = np.log(stocks/stocks.shift(1))\n",
    "log_return.head()"
   ]
  },
  {
   "cell_type": "code",
   "execution_count": 13,
   "metadata": {},
   "outputs": [],
   "source": [
    "from scipy.optimize import minimize\n",
    "\n",
    "def get_ret_vol_sr(weights): \n",
    "    weights = np.array(weights)\n",
    "    ret = np.sum(log_return.mean() * weights) * 252\n",
    "    vol = np.sqrt(np.dot(weights.T,np.dot(log_return.cov()*252,weights)))\n",
    "    sr = ret/vol \n",
    "    return np.array([ret,vol,sr])\n",
    "\n",
    "\n",
    "# minimize negative Sharpe Ratio\n",
    "def neg_sharpe(weights): \n",
    "    return get_ret_vol_sr(weights)[2] * -1\n",
    "\n",
    "# check allocation sums to 1\n",
    "def check_sum(weights): \n",
    "    return np.sum(weights) - 1\n",
    "\n",
    "# create constraint variable\n",
    "cons = ({'type':'eq','fun':check_sum})\n",
    "\n",
    "# create weight boundaries\n",
    "bounds = ((0,1),(0,1),(0,1),(0,1),(0,1), (0,1))\n",
    "\n",
    "\n",
    "# initial guess\n",
    "init_guess = [0.17, 0.16, 0.17, 0.16, 0.17, 0.17]\n",
    "\n",
    "opt_results = minimize(neg_sharpe, init_guess, method='SLSQP', bounds=bounds, constraints=cons)"
   ]
  },
  {
   "cell_type": "code",
   "execution_count": 14,
   "metadata": {},
   "outputs": [
    {
     "data": {
      "text/plain": [
       "     fun: -1.270530697801902\n",
       "     jac: array([ 4.21121716e-04,  6.00850582e-03,  1.08210023e+00,  1.03165209e-03,\n",
       "        1.13040358e-02, -2.86668539e-04])\n",
       " message: 'Optimization terminated successfully'\n",
       "    nfev: 70\n",
       "     nit: 10\n",
       "    njev: 10\n",
       "  status: 0\n",
       " success: True\n",
       "       x: array([2.39052151e-01, 0.00000000e+00, 1.01481323e-15, 8.91123794e-02,\n",
       "       0.00000000e+00, 6.71835469e-01])"
      ]
     },
     "execution_count": 14,
     "metadata": {},
     "output_type": "execute_result"
    }
   ],
   "source": [
    "opt_results"
   ]
  },
  {
   "cell_type": "code",
   "execution_count": 15,
   "metadata": {},
   "outputs": [
    {
     "data": {
      "text/plain": [
       "array([2.39052151e-01, 0.00000000e+00, 1.01481323e-15, 8.91123794e-02,\n",
       "       0.00000000e+00, 6.71835469e-01])"
      ]
     },
     "execution_count": 15,
     "metadata": {},
     "output_type": "execute_result"
    }
   ],
   "source": [
    "opt_results.x"
   ]
  },
  {
   "cell_type": "code",
   "execution_count": 32,
   "metadata": {},
   "outputs": [
    {
     "data": {
      "text/plain": [
       "['AAPL', 'MSFT', 'AMZN', 'TSLA', 'GOOGL', 'GOOG']"
      ]
     },
     "execution_count": 32,
     "metadata": {},
     "output_type": "execute_result"
    }
   ],
   "source": [
    "ticker_list"
   ]
  },
  {
   "cell_type": "code",
   "execution_count": 36,
   "metadata": {},
   "outputs": [
    {
     "data": {
      "text/plain": [
       "67.18354693157619"
      ]
     },
     "execution_count": 36,
     "metadata": {},
     "output_type": "execute_result"
    }
   ],
   "source": [
    "opt_results.x[-1]*100"
   ]
  },
  {
   "cell_type": "code",
   "execution_count": 23,
   "metadata": {},
   "outputs": [
    {
     "data": {
      "text/plain": [
       "array([0.30967986, 0.24374056, 1.2705307 ])"
      ]
     },
     "execution_count": 23,
     "metadata": {},
     "output_type": "execute_result"
    }
   ],
   "source": [
    "get_ret_vol_sr(opt_results.x)"
   ]
  },
  {
   "cell_type": "code",
   "execution_count": 27,
   "metadata": {},
   "outputs": [
    {
     "data": {
      "text/plain": [
       "'AMZN'"
      ]
     },
     "execution_count": 27,
     "metadata": {},
     "output_type": "execute_result"
    }
   ],
   "source": [
    "ticker_list[2]"
   ]
  },
  {
   "cell_type": "code",
   "execution_count": 30,
   "metadata": {},
   "outputs": [
    {
     "name": "stdout",
     "output_type": "stream",
     "text": [
      "AAPL 0.2390521512503877\n",
      "MSFT 0.0\n",
      "AMZN 1.0148132334464322e-15\n",
      "TSLA 0.08911237943385028\n",
      "GOOGL 0.0\n",
      "GOOG 0.6718354693157619\n"
     ]
    }
   ],
   "source": [
    "for i in range(6):\n",
    "    print(ticker_list[i], opt_results.x[i])"
   ]
  },
  {
   "cell_type": "code",
   "execution_count": 43,
   "metadata": {},
   "outputs": [
    {
     "data": {
      "image/png": "[encoded data removed]",
      "text/plain": [
       "<Figure size 432x288 with 1 Axes>"
      ]
     },
     "metadata": {},
     "output_type": "display_data"
    }
   ],
   "source": [
    "import matplotlib.pyplot as plt\n",
    "\n",
    "# Pie chart, where the slices will be ordered and plotted counter-clockwise:\n",
    "updated_ticker_list = ['AAPL', 'TSLA', 'GOOG']\n",
    "opt_weights = [0.2390521512503877*100,  8.911237943385029, 67.18354693157619]\n",
    "explode = (0, 0, 0)  \n",
    "\n",
    "fig1, ax1 = plt.subplots()\n",
    "ax1.pie(opt_weights, explode=explode, labels=updated_ticker_list, autopct='%1.1f%%',\n",
    "        shadow=True, startangle=90)\n",
    "ax1.axis('equal')  # Equal aspect ratio ensures that pie is drawn as a circle.\n",
    "\n",
    "plt.savefig(r'C:\\Users\\saina\\OneDrive - City University of Hong Kong\\Desktop\\cityu\\Cityu Year 4\\FYP\\code\\frontend_react\\public\\images\\opt_portfolio.jpg')\n",
    "\n",
    "plt.show()"
   ]
  },
  {
   "cell_type": "code",
   "execution_count": null,
   "metadata": {},
   "outputs": [],
   "source": []
  }
 ],
 "metadata": {
  "interpreter": {
   "hash": "a9a7c9ccd153a8ff92f2dc23abedc0c7579929dc39c5e0018f5297ab96f8c5ce"
  },
  "kernelspec": {
   "display_name": "Python 3.9.7 ('FYP')",
   "language": "python",
   "name": "python3"
  },
  "language_info": {
   "codemirror_mode": {
    "name": "ipython",
    "version": 3
   },
   "file_extension": ".py",
   "mimetype": "text/x-python",
   "name": "python",
   "nbconvert_exporter": "python",
   "pygments_lexer": "ipython3",
   "version": "3.9.7"
  },
  "orig_nbformat": 4
 },
 "nbformat": 4,
 "nbformat_minor": 2
}
